{
 "cells": [
  {
   "cell_type": "code",
   "execution_count": 2,
   "metadata": {},
   "outputs": [],
   "source": []
  },
  {
   "cell_type": "code",
   "execution_count": 1,
   "metadata": {},
   "outputs": [],
   "source": [
    "class Input:\n",
    "    def __init__(self, name, x, y, x0):\n",
    "        self.name = name\n",
    "        self.points = [(x[i], y[i]) for i in range(len(x))]\n",
    "        self.mi = self.getMi(x0)\n",
    "        \n",
    "    def getY(self, x1, y1, x2, y2, x0):\n",
    "        if y1 == y2:\n",
    "            return y1\n",
    "        if y1 < y2:\n",
    "            return (x0-y1)/(x2-x1)\n",
    "        else:\n",
    "            return (x2-x0)/(x2-x1)\n",
    "        \n",
    "    def getMi(self, x0):\n",
    "        #Finds between self.points is x0\n",
    "        #And calculates mi for that point\n",
    "        if x0 < self.points[0][0]:\n",
    "            return self.points[0][1]\n",
    "        if x0 > self.points[-1][0]:\n",
    "            return self.points[-1][1]\n",
    "        \n",
    "        for i in range(1, len(points)):\n",
    "            x1 = points[i-1][0]\n",
    "            x2 = points[i][0]\n",
    "            \n",
    "            if x0 >= x1 and x0 < x2:\n",
    "                y1 = points[i-1][1]\n",
    "                y2 = points[i][1]\n",
    "                return self.getY(x1, y1, x2, y2, x0)\n",
    "        return -1\n",
    "        "
   ]
  },
  {
   "cell_type": "code",
   "execution_count": null,
   "metadata": {},
   "outputs": [],
   "source": [
    "class Output:\n",
    "    #c is the average of x for points where y == 1\n",
    "    #mi is calculated later, based on the rules\n",
    "    def __init__(self, name, x, y):\n",
    "        self.name = name\n",
    "        sumX = 0\n",
    "        n = 0\n",
    "        self.points = []\n",
    "        for i in range(len(x)):\n",
    "            self.points.append((x[i], y[i]))\n",
    "            if y[i] == 1:\n",
    "                sumX += x[i]\n",
    "                n += 1\n",
    "                \n",
    "        self.mi = 0\n",
    "        self.value = sumX/n"
   ]
  },
  {
   "cell_type": "code",
   "execution_count": 2,
   "metadata": {},
   "outputs": [],
   "source": [
    "#define enum for logical values \n",
    "from enum import Enum, unique\n",
    "@unique\n",
    "class Logic(Enum):\n",
    "    OR = 0\n",
    "    AND = 1"
   ]
  },
  {
   "cell_type": "markdown",
   "metadata": {},
   "source": []
  },
  {
   "cell_type": "code",
   "execution_count": null,
   "metadata": {},
   "outputs": [],
   "source": []
  }
 ],
 "metadata": {
  "kernelspec": {
   "display_name": "Python 3",
   "language": "python",
   "name": "python3"
  },
  "language_info": {
   "codemirror_mode": {
    "name": "ipython",
    "version": 3
   },
   "file_extension": ".py",
   "mimetype": "text/x-python",
   "name": "python",
   "nbconvert_exporter": "python",
   "pygments_lexer": "ipython3",
   "version": "3.7.4"
  }
 },
 "nbformat": 4,
 "nbformat_minor": 4
}
