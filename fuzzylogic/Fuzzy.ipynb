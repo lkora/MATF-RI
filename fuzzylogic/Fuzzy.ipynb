{
 "cells": [
  {
   "cell_type": "code",
   "execution_count": null,
   "metadata": {},
   "outputs": [],
   "source": []
  },
  {
   "cell_type": "code",
   "execution_count": 3,
   "metadata": {},
   "outputs": [],
   "source": [
    "class Input:\n",
    "    def __init__(self, name, x, y, x0):\n",
    "        self.name = name\n",
    "        self.points = [(x[i], y[i]) for i in range(len(x))]\n",
    "        self.mi = self.getMi(x0)\n",
    "        \n",
    "    def getY(self, x1, y1, x2, y2, x0):\n",
    "        if y1 == y2:\n",
    "            return y1\n",
    "        if y1 < y2:\n",
    "            return (x0-x1)/(x2-x1)\n",
    "        \n",
    "        return (x2-x0)/(x2-x1)\n",
    "        \n",
    "    def getMi(self, x0):\n",
    "        #Finds between self.points is x0\n",
    "        #And calculates mi for that point\n",
    "        if x0 < self.points[0][0]:\n",
    "            return self.points[0][1]\n",
    "        if x0 > self.points[-1][0]:\n",
    "            return self.points[-1][1]\n",
    "        \n",
    "        for i in range(1, len(self.points)):\n",
    "            x1 = self.points[i-1][0]\n",
    "            x2 = self.points[i][0]\n",
    "            \n",
    "            if x0 >= x1 and x0 < x2:\n",
    "                y1 = self.points[i-1][1]\n",
    "                y2 = self.points[i][1]\n",
    "                return self.getY(x1, y1, x2, y2, x0)\n",
    "        return -1\n",
    "        "
   ]
  },
  {
   "cell_type": "code",
   "execution_count": 4,
   "metadata": {},
   "outputs": [],
   "source": [
    "class Output:\n",
    "    #c is the average of x for points where y == 1\n",
    "    #mi is calculated later, based on the rules\n",
    "    def __init__(self, name, x, y):\n",
    "        self.name = name\n",
    "        sumX = 0\n",
    "        n = 0\n",
    "        self.points = []\n",
    "        for i in range(len(x)):\n",
    "            self.points.append((x[i], y[i]))\n",
    "            if y[i] == 1:\n",
    "                sumX += x[i]\n",
    "                n += 1\n",
    "                \n",
    "        self.mi = 0\n",
    "        self.value = sumX/n"
   ]
  },
  {
   "cell_type": "code",
   "execution_count": 5,
   "metadata": {},
   "outputs": [],
   "source": [
    "#define enum for logical values \n",
    "from enum import Enum, unique\n",
    "@unique\n",
    "class Logic(Enum):\n",
    "    OR = 0\n",
    "    AND = 1\n",
    "    \n",
    "#Definicija operacija u fazi logici\n",
    "class Rule:\n",
    "    def __init__(self, mfi1, mfi2, mfo, logic):\n",
    "        self.mfInput1 = mfi1\n",
    "        self.mfInput2 = mfi2\n",
    "        self.mfOutput = mfo\n",
    "        if logic == Logic.OR:\n",
    "            self.mfOutput.mi = max(self.mfOutput.mi, max(self.mfInput1.mi, self.mfInput2.mi))\n",
    "        else:\n",
    "            self.mfOutput.mi = max(self.mfOutput.mi, min(self.mfInput1.mi, self.mfInput2.mi))\n"
   ]
  },
  {
   "cell_type": "markdown",
   "metadata": {},
   "source": [
    "<h3> Intersection fuzzy logic model </h3>\n",
    "<img src=\"https://www.fhwa.dot.gov/publications/research/safety/05078/images/fig2.gif\">"
   ]
  },
  {
   "cell_type": "code",
   "execution_count": 120,
   "metadata": {},
   "outputs": [],
   "source": [
    "def func(q, p):\n",
    "    \n",
    "    #Racuna se za svaki pravac odvojeno\n",
    "    \n",
    "    #q - amount of cars in two lanes on one side\n",
    "    #p - amount of cars in two lanes on the opposing side\n",
    "    \n",
    "    #Automobili sa jedne strane (dve trake sabrano)\n",
    "    amount1 = []\n",
    "    amount1.append(Input(\"malo\", [5, 15], [1, 0], q))\n",
    "    amount1.append(Input(\"srednje\", [10, 20, 30, 35], [0, 1, 1, 0], q))\n",
    "    amount1.append(Input(\"puno\", [33, 100], [0, 1], q))\n",
    "    \n",
    "     #Automobili sa druge strane (dve trake sabrano)\n",
    "    amount2 = []\n",
    "    amount2.append(Input(\"malo\", [5, 15], [1, 0], p))\n",
    "    amount2.append(Input(\"srednje\",  [10, 20, 30, 35], [0, 1, 1, 0], p))\n",
    "    amount2.append(Input(\"puno\", [33, 100], [0, 1], p))\n",
    "    \n",
    "    \n",
    "    #Duzina tranjanja semafora\n",
    "    length = []\n",
    "    length.append(Output(\"kratko\", [25, 35], [1, 0]))\n",
    "    length.append(Output(\"srednje\", [30, 55, 65, 75], [0, 1, 1, 0]))\n",
    "    length.append(Output(\"dugo\", [65, 100], [0, 1]))  \n",
    "    \n",
    "    rules = []\n",
    "    #Ima malo automobila sa obe strane => kratko traje zeleno svetlo\n",
    "    rules.append(Rule(amount1[0], amount2[0], length[0], Logic.AND))\n",
    "    \n",
    "    #Na jednoj strani ima malo automobila a na drugoj srednja kolicna automobila\n",
    "    # => srednje trajanje zelenog svetla\n",
    "    rules.append(Rule(amount1[0], amount2[1], length[1], Logic.AND))\n",
    "    rules.append(Rule(amount1[1], amount2[0], length[1], Logic.AND))\n",
    "    #Srednja kolicina automobila na obe strane => srednje trajanje zelenog svetla\n",
    "    rules.append(Rule(amount1[1], amount2[1], length[1], Logic.AND))\n",
    "    #Malo automobila na jednoj strani i puno na drugoj => srednje trajanje zelenog svetla\n",
    "    rules.append(Rule(amount1[0], amount2[2], length[1], Logic.AND))\n",
    "    rules.append(Rule(amount1[2], amount2[0], length[1], Logic.AND))\n",
    "    #srednje i puno => dugo zeleno svetlo\n",
    "    rules.append(Rule(amount1[1], amount2[2], length[2], Logic.AND))\n",
    "    rules.append(Rule(amount1[2], amount2[1], length[2], Logic.AND))\n",
    "    #puno i puno => dugo zeleno svetlo\n",
    "    rules.append(Rule(amount1[2], amount2[2], length[2], Logic.AND))\n",
    "    \n",
    "    \n",
    "    brojilac = 0\n",
    "    imenioc = 0\n",
    "    for o in length:\n",
    "        brojilac += o.mi*o.value\n",
    "        imenioc += o.mi\n",
    "    solution = brojilac/imenioc\n",
    "    \n",
    "    print(solution)    "
   ]
  },
  {
   "cell_type": "code",
   "execution_count": 121,
   "metadata": {},
   "outputs": [
    {
     "name": "stdout",
     "output_type": "stream",
     "text": [
      "39.0\n"
     ]
    }
   ],
   "source": [
    "func(12, 12)"
   ]
  },
  {
   "cell_type": "code",
   "execution_count": null,
   "metadata": {},
   "outputs": [],
   "source": []
  },
  {
   "cell_type": "code",
   "execution_count": null,
   "metadata": {},
   "outputs": [],
   "source": []
  }
 ],
 "metadata": {
  "kernelspec": {
   "display_name": "Python 3",
   "language": "python",
   "name": "python3"
  },
  "language_info": {
   "codemirror_mode": {
    "name": "ipython",
    "version": 3
   },
   "file_extension": ".py",
   "mimetype": "text/x-python",
   "name": "python",
   "nbconvert_exporter": "python",
   "pygments_lexer": "ipython3",
   "version": "3.7.4"
  }
 },
 "nbformat": 4,
 "nbformat_minor": 4
}
